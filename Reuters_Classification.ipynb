{
  "nbformat": 4,
  "nbformat_minor": 0,
  "metadata": {
    "colab": {
      "name": "Reuters Classification.ipynb",
      "provenance": []
    },
    "kernelspec": {
      "name": "python3",
      "display_name": "Python 3"
    },
    "language_info": {
      "name": "python"
    }
  },
  "cells": [
    {
      "cell_type": "markdown",
      "metadata": {
        "id": "9COsgtcHFrgb"
      },
      "source": [
        "# Importing important libraries and the Reuters Newswire Classification dataset "
      ]
    },
    {
      "cell_type": "markdown",
      "metadata": {
        "id": "Xoj49vbIGAKJ"
      },
      "source": [
        "https://keras.io/api/datasets/reuters/"
      ]
    },
    {
      "cell_type": "code",
      "metadata": {
        "id": "nnZuhzYzwqp7"
      },
      "source": [
        "import pandas as pd\n",
        "import numpy as np\n",
        "import matplotlib.pyplot as plt\n",
        "\n",
        "import tensorflow as tf\n",
        "import keras\n",
        "from keras.models import Sequential\n",
        "from keras.layers import Dense, Dropout, Activation\n",
        "from keras.preprocessing.text import Tokenizer\n",
        "from keras.datasets import reuters"
      ],
      "execution_count": 131,
      "outputs": []
    },
    {
      "cell_type": "markdown",
      "metadata": {
        "id": "y_Se8zIkGHSF"
      },
      "source": [
        "# Splitting the Train and Test dataset"
      ]
    },
    {
      "cell_type": "code",
      "metadata": {
        "id": "PE0mZterwaH_"
      },
      "source": [
        "max_words = 10000\n",
        "\n",
        "(x_train, y_train), (x_test, y_test) = reuters.load_data(num_words=max_words, test_split=0.2)\n",
        "word_index = reuters.get_word_index()"
      ],
      "execution_count": 132,
      "outputs": []
    },
    {
      "cell_type": "code",
      "metadata": {
        "colab": {
          "base_uri": "https://localhost:8080/"
        },
        "id": "gfSPVaa8wxAN",
        "outputId": "5f119691-78b0-4f0c-d863-2195ede74c0f"
      },
      "source": [
        "print(\"# of training samples: {}\".format(len(x_train)))\n",
        "print(\"# of testing samples: {}\".format(len(x_test)))\n",
        "\n",
        "num_classes = max(y_train) + 1\n",
        "print(\"# of classes: {}\".format(num_classes))"
      ],
      "execution_count": 133,
      "outputs": [
        {
          "output_type": "stream",
          "text": [
            "# of training samples: 8982\n",
            "# of testing samples: 2246\n",
            "# of classes: 46\n"
          ],
          "name": "stdout"
        }
      ]
    },
    {
      "cell_type": "code",
      "metadata": {
        "id": "Y51-B5jPGYpw"
      },
      "source": [
        "word_index\n"
      ],
      "execution_count": null,
      "outputs": []
    },
    {
      "cell_type": "markdown",
      "metadata": {
        "id": "DOXybpY8Nbd0"
      },
      "source": [
        "# Preparing the dataset for the neural nets"
      ]
    },
    {
      "cell_type": "code",
      "metadata": {
        "id": "c7psZcebNhAL"
      },
      "source": [
        "batch_size = 32\n",
        "epoch = 10"
      ],
      "execution_count": 135,
      "outputs": []
    },
    {
      "cell_type": "code",
      "metadata": {
        "id": "6xwSHYDXOoQW"
      },
      "source": [
        "tokenizer = Tokenizer(num_words=max_words)\n",
        "x_train = tokenizer.sequences_to_matrix(x_train, mode='binary')\n",
        "x_test = tokenizer.sequences_to_matrix(x_test, mode='binary')"
      ],
      "execution_count": 136,
      "outputs": []
    },
    {
      "cell_type": "markdown",
      "metadata": {
        "id": "9uVb9s7fYSHs"
      },
      "source": [
        "Vectorizing the data"
      ]
    },
    {
      "cell_type": "code",
      "metadata": {
        "colab": {
          "base_uri": "https://localhost:8080/"
        },
        "id": "RFtifJNWQi2p",
        "outputId": "a9a601a5-0796-486f-b426-f00bbef423a8"
      },
      "source": [
        "print(\"Shape of x_train:\",  x_train.shape)\n",
        "print(\"Shape of x_test:\",  x_test.shape)\n",
        "\n",
        "print(\"Vectorized train data sample:\", x_train[0])"
      ],
      "execution_count": 137,
      "outputs": [
        {
          "output_type": "stream",
          "text": [
            "Shape of x_train: (8982, 10000)\n",
            "Shape of x_test: (2246, 10000)\n",
            "Vectorized train data sample: [0. 1. 1. ... 0. 0. 0.]\n"
          ],
          "name": "stdout"
        }
      ]
    },
    {
      "cell_type": "code",
      "metadata": {
        "id": "KXmCPN0_RIRx"
      },
      "source": [
        "def to_one_hot(labels, dimension=46):\n",
        "    results = np.zeros((len(labels), dimension))\n",
        "    for i, label in enumerate(labels):\n",
        "        results[i, label] = 1.\n",
        "    return results\n",
        "\n",
        "one_hot_y_train = to_one_hot(y_train)        \n",
        "one_hot_y_test = to_one_hot(y_test)    "
      ],
      "execution_count": 138,
      "outputs": []
    },
    {
      "cell_type": "markdown",
      "metadata": {
        "id": "5qF8Q5zPYaTq"
      },
      "source": [
        "Using one-hot encoding for the train and test labels"
      ]
    },
    {
      "cell_type": "code",
      "metadata": {
        "colab": {
          "base_uri": "https://localhost:8080/"
        },
        "id": "tEJ4aBrhWB0u",
        "outputId": "d929054a-0aac-4877-c31b-3a76d12f6709"
      },
      "source": [
        "print(\"Shape of trained label:\", one_hot_y_train.shape)\n",
        "print(\"Shape of test label:\", one_hot_y_test.shape)"
      ],
      "execution_count": 139,
      "outputs": [
        {
          "output_type": "stream",
          "text": [
            "Shape of trained label: (8982, 46)\n",
            "Shape of test label: (2246, 46)\n"
          ],
          "name": "stdout"
        }
      ]
    },
    {
      "cell_type": "markdown",
      "metadata": {
        "id": "iZAsrUEWZKEH"
      },
      "source": [
        "# Building the Model"
      ]
    },
    {
      "cell_type": "markdown",
      "metadata": {
        "id": "s1JtUwYxZpSW"
      },
      "source": [
        "This multiclass classification requires a network with a much more dense layer as we are using 46 classifications for the text and we are therefore going to use 64 input layers and outputting 46 output layers"
      ]
    },
    {
      "cell_type": "code",
      "metadata": {
        "id": "4BRjPQdgZPhB"
      },
      "source": [
        "model = Sequential()\n",
        "\n",
        "model.add(Dense(64, activation='relu', input_shape=(max_words,)))\n",
        "model.add(Dense(64,activation='relu'))\n",
        "model.add(Dense(46,activation='softmax'))"
      ],
      "execution_count": 140,
      "outputs": []
    },
    {
      "cell_type": "code",
      "metadata": {
        "id": "nGqsrRs1baVD"
      },
      "source": [
        "model.compile(optimizer='rmsprop', loss='categorical_crossentropy',metrics=['accuracy'])"
      ],
      "execution_count": 141,
      "outputs": []
    },
    {
      "cell_type": "markdown",
      "metadata": {
        "id": "ZWHyvcjYfNgi"
      },
      "source": [
        "# Training the model using 1,000 samples"
      ]
    },
    {
      "cell_type": "code",
      "metadata": {
        "id": "BytN6nwVfWgy"
      },
      "source": [
        "x_val = x_train[:1000]\n",
        "partial_x_train = x_train[1000:]\n",
        "\n",
        "y_val = one_hot_y_train[:1000]\n",
        "partial_y_train = one_hot_y_train[1000:]"
      ],
      "execution_count": 142,
      "outputs": []
    },
    {
      "cell_type": "code",
      "metadata": {
        "colab": {
          "base_uri": "https://localhost:8080/"
        },
        "id": "O4knNIssfkOQ",
        "outputId": "6c82a7d0-f6ea-4cc8-e472-1ef3a762f357"
      },
      "source": [
        "history = model.fit(partial_x_train, partial_y_train, epochs=20, batch_size=512, \n",
        "                    validation_data=(x_val, y_val))"
      ],
      "execution_count": 143,
      "outputs": [
        {
          "output_type": "stream",
          "text": [
            "Epoch 1/20\n",
            "16/16 [==============================] - 2s 54ms/step - loss: 2.6560 - accuracy: 0.4971 - val_loss: 1.7469 - val_accuracy: 0.6540\n",
            "Epoch 2/20\n",
            "16/16 [==============================] - 1s 44ms/step - loss: 1.4268 - accuracy: 0.7180 - val_loss: 1.3017 - val_accuracy: 0.7310\n",
            "Epoch 3/20\n",
            "16/16 [==============================] - 1s 44ms/step - loss: 1.0424 - accuracy: 0.7900 - val_loss: 1.1441 - val_accuracy: 0.7560\n",
            "Epoch 4/20\n",
            "16/16 [==============================] - 1s 44ms/step - loss: 0.8124 - accuracy: 0.8296 - val_loss: 1.0242 - val_accuracy: 0.7780\n",
            "Epoch 5/20\n",
            "16/16 [==============================] - 1s 43ms/step - loss: 0.6437 - accuracy: 0.8636 - val_loss: 0.9506 - val_accuracy: 0.8020\n",
            "Epoch 6/20\n",
            "16/16 [==============================] - 1s 43ms/step - loss: 0.5121 - accuracy: 0.8924 - val_loss: 0.9182 - val_accuracy: 0.8070\n",
            "Epoch 7/20\n",
            "16/16 [==============================] - 1s 45ms/step - loss: 0.4133 - accuracy: 0.9151 - val_loss: 0.8982 - val_accuracy: 0.8090\n",
            "Epoch 8/20\n",
            "16/16 [==============================] - 1s 44ms/step - loss: 0.3401 - accuracy: 0.9288 - val_loss: 0.9248 - val_accuracy: 0.8100\n",
            "Epoch 9/20\n",
            "16/16 [==============================] - 1s 45ms/step - loss: 0.2799 - accuracy: 0.9395 - val_loss: 0.8876 - val_accuracy: 0.8160\n",
            "Epoch 10/20\n",
            "16/16 [==============================] - 1s 43ms/step - loss: 0.2359 - accuracy: 0.9458 - val_loss: 0.9096 - val_accuracy: 0.8140\n",
            "Epoch 11/20\n",
            "16/16 [==============================] - 1s 44ms/step - loss: 0.2056 - accuracy: 0.9470 - val_loss: 0.9276 - val_accuracy: 0.8140\n",
            "Epoch 12/20\n",
            "16/16 [==============================] - 1s 44ms/step - loss: 0.1880 - accuracy: 0.9524 - val_loss: 0.9304 - val_accuracy: 0.8180\n",
            "Epoch 13/20\n",
            "16/16 [==============================] - 1s 44ms/step - loss: 0.1665 - accuracy: 0.9538 - val_loss: 0.9348 - val_accuracy: 0.8230\n",
            "Epoch 14/20\n",
            "16/16 [==============================] - 1s 43ms/step - loss: 0.1487 - accuracy: 0.9550 - val_loss: 1.0171 - val_accuracy: 0.8050\n",
            "Epoch 15/20\n",
            "16/16 [==============================] - 1s 44ms/step - loss: 0.1449 - accuracy: 0.9559 - val_loss: 1.0079 - val_accuracy: 0.8070\n",
            "Epoch 16/20\n",
            "16/16 [==============================] - 1s 45ms/step - loss: 0.1296 - accuracy: 0.9553 - val_loss: 0.9916 - val_accuracy: 0.8160\n",
            "Epoch 17/20\n",
            "16/16 [==============================] - 1s 45ms/step - loss: 0.1279 - accuracy: 0.9567 - val_loss: 1.0252 - val_accuracy: 0.8090\n",
            "Epoch 18/20\n",
            "16/16 [==============================] - 1s 45ms/step - loss: 0.1178 - accuracy: 0.9584 - val_loss: 1.0387 - val_accuracy: 0.8150\n",
            "Epoch 19/20\n",
            "16/16 [==============================] - 1s 43ms/step - loss: 0.1142 - accuracy: 0.9582 - val_loss: 1.0384 - val_accuracy: 0.8110\n",
            "Epoch 20/20\n",
            "16/16 [==============================] - 1s 44ms/step - loss: 0.1109 - accuracy: 0.9582 - val_loss: 1.0920 - val_accuracy: 0.8070\n"
          ],
          "name": "stdout"
        }
      ]
    },
    {
      "cell_type": "code",
      "metadata": {
        "colab": {
          "base_uri": "https://localhost:8080/",
          "height": 295
        },
        "id": "pP8dZwI8gTfh",
        "outputId": "c9b22c88-2e48-4a54-902e-9461ef7da750"
      },
      "source": [
        "loss = history.history['loss']\n",
        "val_loss = history.history['val_loss']\n",
        "\n",
        "epochs = range(1, len(loss) + 1)\n",
        "\n",
        "plt.plot(epochs, loss, 'bo', label='Training loss')\n",
        "plt.plot(epochs, val_loss, 'b', label='Validation loss')\n",
        "plt.title('Training and validation loss')\n",
        "plt.xlabel('Epochs')\n",
        "plt.ylabel('Loss')\n",
        "plt.legend()\n",
        "\n",
        "plt.show()"
      ],
      "execution_count": 144,
      "outputs": [
        {
          "output_type": "display_data",
          "data": {
            "image/png": "[encoded data removed]",
            "text/plain": [
              "<Figure size 432x288 with 1 Axes>"
            ]
          },
          "metadata": {
            "needs_background": "light"
          }
        }
      ]
    },
    {
      "cell_type": "code",
      "metadata": {
        "colab": {
          "base_uri": "https://localhost:8080/",
          "height": 295
        },
        "id": "_Dnsm4ZLg4O4",
        "outputId": "5a147140-37ac-4f1d-b383-0950b70a7f49"
      },
      "source": [
        "plt.clf()                                                \n",
        "\n",
        "acc = history.history['accuracy']\n",
        "val_acc = history.history['val_accuracy']\n",
        "\n",
        "plt.plot(epochs, acc, 'bo', label='Training acc')\n",
        "plt.plot(epochs, val_acc, 'b', label='Validation acc')\n",
        "plt.title('Training and validation accuracy')\n",
        "plt.xlabel('Epochs')\n",
        "plt.ylabel('Accuracy')\n",
        "plt.legend()\n",
        "\n",
        "plt.show()\n"
      ],
      "execution_count": 145,
      "outputs": [
        {
          "output_type": "display_data",
          "data": {
            "image/png": "[encoded data removed]",
            "text/plain": [
              "<Figure size 432x288 with 1 Axes>"
            ]
          },
          "metadata": {
            "needs_background": "light"
          }
        }
      ]
    },
    {
      "cell_type": "markdown",
      "metadata": {
        "id": "Etun0vbjiIsA"
      },
      "source": [
        "Network begins to overfit after 8 epochs. Training the network using 8 epochs and validate using the test set"
      ]
    },
    {
      "cell_type": "code",
      "metadata": {
        "colab": {
          "base_uri": "https://localhost:8080/"
        },
        "id": "6fefUWozq3K7",
        "outputId": "6e1926de-476b-4207-baf1-1a6f5e949d1b"
      },
      "source": [
        "model = Sequential()\n",
        "\n",
        "model.add(Dense(128, activation='relu', input_shape=(max_words,)))\n",
        "model.add(Dense(64, activation='relu'))\n",
        "model.add(Dense(46, activation='softmax'))\n",
        "\n",
        "model.compile(optimizer='rmsprop',\n",
        "              loss='categorical_crossentropy',\n",
        "              metrics=['accuracy'])\n",
        "model.fit(partial_x_train,\n",
        "          partial_y_train,\n",
        "          epochs=8,\n",
        "          batch_size=512,\n",
        "          validation_data=(x_val, y_val))\n",
        "results = model.evaluate(x_test, one_hot_y_test)"
      ],
      "execution_count": 164,
      "outputs": [
        {
          "output_type": "stream",
          "text": [
            "Epoch 1/8\n",
            "16/16 [==============================] - 2s 106ms/step - loss: 2.4842 - accuracy: 0.5266 - val_loss: 1.5461 - val_accuracy: 0.6710\n",
            "Epoch 2/8\n",
            "16/16 [==============================] - 1s 88ms/step - loss: 1.2201 - accuracy: 0.7466 - val_loss: 1.1809 - val_accuracy: 0.7290\n",
            "Epoch 3/8\n",
            "16/16 [==============================] - 1s 88ms/step - loss: 0.8527 - accuracy: 0.8245 - val_loss: 1.0090 - val_accuracy: 0.7870\n",
            "Epoch 4/8\n",
            "16/16 [==============================] - 1s 85ms/step - loss: 0.6328 - accuracy: 0.8676 - val_loss: 0.9592 - val_accuracy: 0.8020\n",
            "Epoch 5/8\n",
            "16/16 [==============================] - 1s 79ms/step - loss: 0.4631 - accuracy: 0.9054 - val_loss: 0.8877 - val_accuracy: 0.8230\n",
            "Epoch 6/8\n",
            "16/16 [==============================] - 1s 83ms/step - loss: 0.3579 - accuracy: 0.9247 - val_loss: 0.8818 - val_accuracy: 0.8250\n",
            "Epoch 7/8\n",
            "16/16 [==============================] - 1s 84ms/step - loss: 0.2777 - accuracy: 0.9396 - val_loss: 0.8718 - val_accuracy: 0.8220\n",
            "Epoch 8/8\n",
            "16/16 [==============================] - 1s 81ms/step - loss: 0.2303 - accuracy: 0.9464 - val_loss: 0.9017 - val_accuracy: 0.8140\n",
            "71/71 [==============================] - 0s 6ms/step - loss: 0.9782 - accuracy: 0.7952\n"
          ],
          "name": "stdout"
        }
      ]
    },
    {
      "cell_type": "markdown",
      "metadata": {
        "id": "aj8YybCQ_Sro"
      },
      "source": [
        "Accuracy is used as a metric because the  80% of the train samples can be classified to belong to 1 of the 46 classification as for test samples can 20% are used to identify its classification"
      ]
    },
    {
      "cell_type": "code",
      "metadata": {
        "colab": {
          "base_uri": "https://localhost:8080/"
        },
        "id": "MS6e4Xzfutkp",
        "outputId": "1d37ec67-9cd3-4514-f369-06cb4ff43e2c"
      },
      "source": [
        "results"
      ],
      "execution_count": 165,
      "outputs": [
        {
          "output_type": "execute_result",
          "data": {
            "text/plain": [
              "[0.9782055020332336, 0.7951914668083191]"
            ]
          },
          "metadata": {},
          "execution_count": 165
        }
      ]
    },
    {
      "cell_type": "markdown",
      "metadata": {
        "id": "7hqug3mo2HhB"
      },
      "source": [
        "This approach reaches an accuracy of ~79% given the test sample provided"
      ]
    },
    {
      "cell_type": "code",
      "metadata": {
        "colab": {
          "base_uri": "https://localhost:8080/"
        },
        "id": "D2mMbTCs5hvd",
        "outputId": "433e3078-063f-488f-b5ec-9add9be8a63b"
      },
      "source": [
        "predictions = model.predict(x_test)\n",
        "\n",
        "print(\"Prediction shape \", predictions.shape)\n",
        "print(\"Sum of all output probabilities \", np.sum(predictions[0]))"
      ],
      "execution_count": 173,
      "outputs": [
        {
          "output_type": "stream",
          "text": [
            "Prediction shape  (2246, 46)\n",
            "Sum of all output probabilities  1.0\n"
          ],
          "name": "stdout"
        }
      ]
    }
  ]
}